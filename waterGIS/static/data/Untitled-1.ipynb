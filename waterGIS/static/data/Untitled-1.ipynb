{
 "cells": [
  {
   "cell_type": "code",
   "execution_count": null,
   "metadata": {},
   "outputs": [],
   "source": []
  },
  {
   "cell_type": "code",
   "execution_count": null,
   "metadata": {},
   "outputs": [
    {
     "ename": "",
     "evalue": "",
     "output_type": "error",
     "traceback": [
      "\u001b[1;31mRunning cells with 'venv' requires the ipykernel package.\n",
      "\u001b[1;31mRun the following command to install 'ipykernel' into the Python environment. \n",
      "\u001b[1;31mCommand: '/Users/hridoy/Desktop/Django/water_backend_copy/venv/bin/python -m pip install ipykernel -U --force-reinstall'"
     ]
    }
   ],
   "source": [
    "import json\n",
    "\n",
    "# Load the GeoJSON data\n",
    "with open('waterGIS/static/data/nnChapters.geojson') as f:\n",
    "    data = json.load(f)\n",
    "\n",
    "# Iterate over each feature (chapter) in the data\n",
    "for feature in data['features']:\n",
    "    chapter_name = feature['properties']['Chapter']\n",
    "    coordinates = feature['geometry']['coordinates']\n",
    "\n",
    "    print(f\"Chapter Name: {chapter_name}\")\n",
    "    print(f\"Coordinates: {coordinates}\")"
   ]
  }
 ],
 "metadata": {
  "kernelspec": {
   "display_name": "venv",
   "language": "python",
   "name": "python3"
  },
  "language_info": {
   "name": "python",
   "version": "3.11.1"
  },
  "orig_nbformat": 4
 },
 "nbformat": 4,
 "nbformat_minor": 2
}
