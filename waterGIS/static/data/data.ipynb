import json

# Load the GeoJSON data
with open('./Users/hridoy/Desktop/Django/water_backend_copy/waterGIS/static/data/nnChapters.geoJSON') as f:
    data = json.load(f)

# Iterate over each feature (chapter) in the data
for feature in data['features']:
    chapter_name = feature['properties']['Chapter']
    coordinates = feature['geometry']['coordinates']

    print(f"Chapter Name: {chapter_name}")
    print(f"Coordinates: {coordinates}")